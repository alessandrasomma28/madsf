{
 "cells": [
  {
   "cell_type": "markdown",
   "id": "fe44101b",
   "metadata": {},
   "source": [
    "# RQ1: Efficiency"
   ]
  },
  {
   "cell_type": "code",
   "execution_count": 23,
   "id": "90d98094",
   "metadata": {},
   "outputs": [],
   "source": [
    "import os\n",
    "import pandas as pd"
   ]
  },
  {
   "cell_type": "markdown",
   "id": "b55661a4",
   "metadata": {},
   "source": [
    "## Compute Efficiency Data"
   ]
  },
  {
   "cell_type": "code",
   "execution_count": 24,
   "id": "41672786",
   "metadata": {},
   "outputs": [
    {
     "name": "stdout",
     "output_type": "stream",
     "text": [
      "Efficiency summary saved to: /Users/beyzaeken/Desktop/sfdigitalmirror/experiments/efficiency_results.csv\n"
     ]
    }
   ],
   "source": [
    "# Prepare paths\n",
    "projectPath = os.path.abspath(os.path.join(os.getcwd(), '..'))\n",
    "modes_dir = os.path.join(projectPath, 'sumoenv/scenarios/normal')\n",
    "\n",
    "records = []\n",
    "# Traverse each mode (sumo, social_groups, multi_agent)\n",
    "for mode in os.listdir(modes_dir):\n",
    "    mode_path = os.path.join(modes_dir, mode)\n",
    "    if not os.path.isdir(mode_path):\n",
    "        continue\n",
    "    # Traverse each folder inside the mode\n",
    "    for date in os.listdir(mode_path):\n",
    "        date_path = os.path.join(mode_path, date)\n",
    "        if not os.path.isdir(date_path):\n",
    "            continue\n",
    "        summary_path = os.path.join(date_path, 'simulation_summary.csv')\n",
    "        if os.path.exists(summary_path):\n",
    "            df = pd.read_csv(summary_path)\n",
    "            if not df.empty:\n",
    "                first_row = df.iloc[0]\n",
    "                elapsed_sec = first_row['total_elapsed_seconds']\n",
    "                sumo_sec = first_row['sumo_time']\n",
    "                agents_sec = first_row['agents_time'] if mode in ['multi_agent', 'social_groups'] else 0\n",
    "                records.append({\n",
    "                    'mode': mode,\n",
    "                    'date': date,\n",
    "                    'elapsed_seconds': elapsed_sec,\n",
    "                    'elapsed_minutes': round(elapsed_sec / 60, 2),\n",
    "                    'sumo_time': sumo_sec,\n",
    "                    'sumo_minutes': round(sumo_sec / 60, 2),\n",
    "                    'agents_time': agents_sec,\n",
    "                    'agents_minutes': round(agents_sec / 60, 2)\n",
    "                })\n",
    "# Save results to CSV\n",
    "summary_df = pd.DataFrame(records)\n",
    "output_file = os.path.join(projectPath, 'experiments/efficiency_results.csv')\n",
    "summary_df.to_csv(output_file, index=False)\n",
    "\n",
    "print(f\"Efficiency summary saved to: {output_file}\")\n"
   ]
  },
  {
   "cell_type": "markdown",
   "id": "cc55bdb9",
   "metadata": {},
   "source": [
    "## Analyze Efficiency Data"
   ]
  }
 ],
 "metadata": {
  "kernelspec": {
   "display_name": ".venv",
   "language": "python",
   "name": "python3"
  },
  "language_info": {
   "codemirror_mode": {
    "name": "ipython",
    "version": 3
   },
   "file_extension": ".py",
   "mimetype": "text/x-python",
   "name": "python",
   "nbconvert_exporter": "python",
   "pygments_lexer": "ipython3",
   "version": "3.11.9"
  }
 },
 "nbformat": 4,
 "nbformat_minor": 5
}
