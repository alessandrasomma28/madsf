{
 "cells": [
  {
   "cell_type": "code",
   "execution_count": null,
   "id": "9d95fa1f",
   "metadata": {},
   "outputs": [],
   "source": [
    "import matplotlib.pyplot as plt\n",
    "import numpy as np\n",
    "import pandas as pd\n",
    "import os"
   ]
  },
  {
   "cell_type": "markdown",
   "id": "5cf6cc30",
   "metadata": {},
   "source": [
    "# Analyze Underground Metrics"
   ]
  },
  {
   "cell_type": "code",
   "execution_count": null,
   "id": "d358a0b4",
   "metadata": {},
   "outputs": [],
   "source": [
    "projectPath = os.path.abspath(os.path.join(os.getcwd(), '..'))\n",
    "underground_file = os.path.join(projectPath, 'sumoenv/scenarios/normal/social_groups/21111008_21111014/sf_final_metrics.csv')\n",
    "df_under = pd.read_csv(underground_file)\n",
    "df_under.columns"
   ]
  },
  {
   "cell_type": "code",
   "execution_count": null,
   "id": "e1954ff4",
   "metadata": {},
   "outputs": [],
   "source": [
    "# Surge multiplier columns that shouldn't be smoothed but padded\n",
    "surge_columns = [\n",
    "    \"rides_offers_surge_avg\",\n",
    "    \"rides_offers_surge_lyft_avg\",\n",
    "    \"rides_offers_surge_uber_avg\"\n",
    "]\n",
    "# Agents columns that should be padded with forward-fill every 60 seconds before smoothing\n",
    "agent_columns = [\n",
    "    \"passengers_unassigned\",\n",
    "    \"passengers_assigned\",\n",
    "    \"passengers_accept\",\n",
    "    \"passengers_reject\",\n",
    "    \"passengers_cancel\",\n",
    "    \"drivers_idle\",\n",
    "    \"drivers_pickup\",\n",
    "    \"drivers_busy\",\n",
    "    \"drivers_accept\",\n",
    "    \"drivers_reject\",\n",
    "    \"drivers_removed\",\n",
    "    \"rides_duration_expected_avg\",\n",
    "    \"rides_length_expected_avg\",\n",
    "    \"rides_offers_radius_avg\",\n",
    "    \"rides_offers_price_avg\",\n",
    "    \"rides_dispatched\",\n",
    "    \"rides_in_progress\",\n",
    "    \"rides_offers_generated\",\n",
    "    \"rides_partial_acceptances\"\n",
    "]\n",
    "\n",
    "# Process the surge_columns: pad with forward-fill\n",
    "for col in surge_columns:\n",
    "    df_under[col] = df_under[col].replace(0, np.nan)\n",
    "    df_under[col] = df_under[col].fillna(method='ffill')\n",
    "\n",
    "# Process the agent_columns: pad with forward-fill\n",
    "for col in agent_columns:\n",
    "    for i in range(0, len(df_under), 60):\n",
    "        val = df_under.at[i, col]\n",
    "        df_under.loc[i:i+59, col] = val\n",
    "\n",
    "# Apply rolling mean to all other columns\n",
    "rolling_cols = [col for col in df_under.columns if col not in surge_columns + [\"timestamp\"]]\n",
    "for col in rolling_cols:\n",
    "    df_under[col] = df_under[col].rolling(window=300).mean().dropna()\n",
    "\n",
    "# Plot each column (excluding timestamp)\n",
    "for column in df_under.columns:\n",
    "    if column == \"timestamp\":\n",
    "        continue\n",
    "    plt.figure()\n",
    "    plt.plot(df_under[\"timestamp\"], df_under[column], label=column)\n",
    "    plt.title(f\"Processed: {column}\")\n",
    "    plt.xlabel(\"Timestamp\")\n",
    "    plt.ylabel(column)\n",
    "    plt.legend()\n",
    "    plt.grid(True)\n",
    "    plt.show()\n"
   ]
  }
 ],
 "metadata": {
  "kernelspec": {
   "display_name": ".venv",
   "language": "python",
   "name": "python3"
  },
  "language_info": {
   "codemirror_mode": {
    "name": "ipython",
    "version": 3
   },
   "file_extension": ".py",
   "mimetype": "text/x-python",
   "name": "python",
   "nbconvert_exporter": "python",
   "pygments_lexer": "ipython3",
   "version": "3.11.9"
  }
 },
 "nbformat": 4,
 "nbformat_minor": 5
}
