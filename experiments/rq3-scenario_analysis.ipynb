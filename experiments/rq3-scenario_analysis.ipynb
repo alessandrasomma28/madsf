{
 "cells": [
  {
   "cell_type": "code",
   "execution_count": 104,
   "id": "9d95fa1f",
   "metadata": {},
   "outputs": [],
   "source": [
    "import matplotlib.pyplot as plt\n",
    "import numpy as np\n",
    "import pandas as pd\n",
    "import os\n",
    "from datetime import datetime, timedelta\n",
    "import csv\n",
    "import json\n",
    "from matplotlib import ticker"
   ]
  },
  {
   "cell_type": "markdown",
   "id": "5cf6cc30",
   "metadata": {},
   "source": [
    "# Underground Alarm"
   ]
  },
  {
   "cell_type": "markdown",
   "id": "9b2e296d",
   "metadata": {},
   "source": [
    "First of all, we analyze the metrics of the disruptive scenario and compute responsiveness and fidelity."
   ]
  },
  {
   "cell_type": "code",
   "execution_count": 105,
   "id": "d358a0b4",
   "metadata": {},
   "outputs": [
    {
     "data": {
      "text/plain": [
       "Index(['timestamp', 'passengers_new', 'passengers_departures',\n",
       "       'passengers_arrivals', 'passengers_unassigned', 'passengers_assigned',\n",
       "       'passengers_accept', 'passengers_reject', 'passengers_cancel',\n",
       "       'drivers_shift_duration_avg', 'drivers_total_length_avg',\n",
       "       'drivers_idle_duration_avg', 'drivers_occupied_distance_avg',\n",
       "       'drivers_occupied_duration_avg', 'drivers_passengers_served',\n",
       "       'drivers_idle', 'drivers_pickup', 'drivers_busy', 'drivers_accept',\n",
       "       'drivers_reject', 'drivers_removed', 'rides_in_progress',\n",
       "       'rides_waiting_duration_avg', 'rides_duration_avg', 'rides_length_avg',\n",
       "       'rides_duration_expected_avg', 'rides_length_expected_avg',\n",
       "       'rides_dispatched', 'rides_partial_acceptances', 'rides_not_served',\n",
       "       'rides_offers_generated', 'rides_offers_radius_avg',\n",
       "       'rides_offers_price_avg', 'rides_offers_surge_avg',\n",
       "       'traffic_in_progress', 'traffic_departures', 'traffic_arrivals',\n",
       "       'traffic_duration_avg', 'traffic_length_avg', 'traffic_speed_avg',\n",
       "       'traffic_speed_relative_avg', 'traffic_queuing_duration_avg',\n",
       "       'traffic_queuing_length_avg', 'rides_offers_lyft', 'rides_offers_uber',\n",
       "       'rides_offers_surge_lyft_avg', 'rides_offers_surge_uber_avg'],\n",
       "      dtype='object')"
      ]
     },
     "execution_count": 105,
     "metadata": {},
     "output_type": "execute_result"
    }
   ],
   "source": [
    "projectPath = os.path.abspath(os.path.join(os.getcwd(), '..'))\n",
    "underground_file = os.path.join(projectPath, 'sumoenv/scenarios/underground_alarm/social_groups/21111008_21111014/sf_final_metrics.csv')\n",
    "df_under = pd.read_csv(underground_file)\n",
    "df_under.columns"
   ]
  },
  {
   "cell_type": "code",
   "execution_count": 106,
   "id": "e1954ff4",
   "metadata": {},
   "outputs": [
    {
     "name": "stderr",
     "output_type": "stream",
     "text": [
      "/var/folders/03/ywz8jzld3gs1b0zsd9kydy940000gq/T/ipykernel_50292/671798607.py:33: FutureWarning: Series.fillna with 'method' is deprecated and will raise in a future version. Use obj.ffill() or obj.bfill() instead.\n",
      "  df_under[col] = df_under[col].fillna(method='ffill')\n"
     ]
    },
    {
     "data": {
      "text/plain": [
       "'\\nfor column in df_under.columns:\\n    if column == \"timestamp\":\\n        continue\\n    plt.figure()\\n    plt.plot(df_under[\"timestamp\"], df_under[column], label=column)\\n    plt.title(f\"Processed: {column}\")\\n    plt.xlabel(\"Timestamp\")\\n    plt.ylabel(column)\\n    plt.legend()\\n    plt.grid(True)\\n    plt.show()\\n'"
      ]
     },
     "execution_count": 106,
     "metadata": {},
     "output_type": "execute_result"
    }
   ],
   "source": [
    "# Surge multiplier columns that shouldn't be smoothed but padded\n",
    "surge_columns = [\n",
    "    \"rides_offers_surge_avg\",\n",
    "    \"rides_offers_surge_lyft_avg\",\n",
    "    \"rides_offers_surge_uber_avg\"\n",
    "]\n",
    "# Agents columns that should be padded with forward-fill every 60 seconds before smoothing\n",
    "agent_columns = [\n",
    "    \"passengers_unassigned\",\n",
    "    \"passengers_assigned\",\n",
    "    \"passengers_accept\",\n",
    "    \"passengers_reject\",\n",
    "    \"passengers_cancel\",\n",
    "    \"drivers_idle\",\n",
    "    \"drivers_pickup\",\n",
    "    \"drivers_busy\",\n",
    "    \"drivers_accept\",\n",
    "    \"drivers_reject\",\n",
    "    \"drivers_removed\",\n",
    "    \"rides_duration_expected_avg\",\n",
    "    \"rides_length_expected_avg\",\n",
    "    \"rides_offers_radius_avg\",\n",
    "    \"rides_offers_price_avg\",\n",
    "    \"rides_dispatched\",\n",
    "    \"rides_in_progress\",\n",
    "    \"rides_offers_generated\",\n",
    "    \"rides_partial_acceptances\"\n",
    "]\n",
    "\n",
    "# Process the surge_columns: pad with forward-fill\n",
    "for col in surge_columns:\n",
    "    df_under[col] = df_under[col].replace(0, np.nan)\n",
    "    df_under[col] = df_under[col].fillna(method='ffill')\n",
    "\n",
    "# Process the agent_columns: pad with forward-fill\n",
    "for col in agent_columns:\n",
    "    for i in range(0, len(df_under), 60):\n",
    "        val = df_under.at[i, col]\n",
    "        df_under.loc[i:i+59, col] = val\n",
    "\n",
    "# Apply rolling mean to all other columns\n",
    "rolling_cols = [col for col in df_under.columns if col not in surge_columns + [\"timestamp\"]]\n",
    "for col in rolling_cols:\n",
    "    df_under[col] = df_under[col].rolling(window=300).mean().dropna()\n",
    "\n",
    "# Plot each column (excluding timestamp)\n",
    "'''\n",
    "for column in df_under.columns:\n",
    "    if column == \"timestamp\":\n",
    "        continue\n",
    "    plt.figure()\n",
    "    plt.plot(df_under[\"timestamp\"], df_under[column], label=column)\n",
    "    plt.title(f\"Processed: {column}\")\n",
    "    plt.xlabel(\"Timestamp\")\n",
    "    plt.ylabel(column)\n",
    "    plt.legend()\n",
    "    plt.grid(True)\n",
    "    plt.show()\n",
    "'''\n"
   ]
  },
  {
   "cell_type": "markdown",
   "id": "42bc9359",
   "metadata": {},
   "source": [
    "## Compare with Normal"
   ]
  },
  {
   "cell_type": "code",
   "execution_count": 107,
   "id": "4920c967",
   "metadata": {},
   "outputs": [
    {
     "name": "stderr",
     "output_type": "stream",
     "text": [
      "/var/folders/03/ywz8jzld3gs1b0zsd9kydy940000gq/T/ipykernel_50292/3348671364.py:37: FutureWarning: Series.fillna with 'method' is deprecated and will raise in a future version. Use obj.ffill() or obj.bfill() instead.\n",
      "  df[col] = df[col].fillna(method='ffill')\n"
     ]
    },
    {
     "data": {
      "image/png": "[encoded data removed]",
      "text/plain": [
       "<Figure size 1000x600 with 1 Axes>"
      ]
     },
     "metadata": {},
     "output_type": "display_data"
    }
   ],
   "source": [
    "projectPath = os.path.abspath(os.path.join(os.getcwd(), '..'))\n",
    "normal_file = os.path.join(projectPath, 'sumoenv/scenarios/normal/social_groups_2/21111008_21111014/sf_final_metrics.csv')\n",
    "df = pd.read_csv(normal_file)\n",
    "\n",
    "# Surge multiplier columns that shouldn't be smoothed but padded\n",
    "surge_columns = [\n",
    "    \"rides_offers_surge_avg\",\n",
    "    \"rides_offers_surge_lyft_avg\",\n",
    "    \"rides_offers_surge_uber_avg\"\n",
    "]\n",
    "# Agents columns that should be padded with forward-fill every 60 seconds before smoothing\n",
    "agent_columns = [\n",
    "    \"passengers_unassigned\",\n",
    "    \"passengers_assigned\",\n",
    "    \"passengers_accept\",\n",
    "    \"passengers_reject\",\n",
    "    \"passengers_cancel\",\n",
    "    \"drivers_idle\",\n",
    "    \"drivers_pickup\",\n",
    "    \"drivers_busy\",\n",
    "    \"drivers_accept\",\n",
    "    \"drivers_reject\",\n",
    "    \"drivers_removed\",\n",
    "    \"rides_duration_expected_avg\",\n",
    "    \"rides_length_expected_avg\",\n",
    "    \"rides_offers_radius_avg\",\n",
    "    \"rides_offers_price_avg\",\n",
    "    \"rides_dispatched\",\n",
    "    \"rides_in_progress\",\n",
    "    \"rides_offers_generated\",\n",
    "    \"rides_partial_acceptances\"\n",
    "]\n",
    "\n",
    "# Process the surge_columns: pad with forward-fill\n",
    "for col in surge_columns:\n",
    "    df[col] = df[col].replace(0, np.nan)\n",
    "    df[col] = df[col].fillna(method='ffill')\n",
    "\n",
    "# Process the agent_columns: pad with forward-fill\n",
    "for col in agent_columns:\n",
    "    for i in range(0, len(df), 60):\n",
    "        val = df.at[i, col]\n",
    "        df.loc[i:i+59, col] = val\n",
    "\n",
    "# Apply rolling mean to all other columns\n",
    "rolling_cols = [col for col in df.columns if col not in surge_columns + [\"timestamp\"]]\n",
    "for col in rolling_cols:\n",
    "    df[col] = df[col].rolling(window=300).mean().dropna()\n",
    "\n",
    "df = df[5400:-3600]\n",
    "df_under = df_under[5400:-3600]\n",
    "\n",
    "plt.figure(figsize=(10, 6))\n",
    "plt.plot(df[\"timestamp\"], df[\"rides_offers_surge_avg\"], label=\"Normal\")\n",
    "plt.plot(df_under[\"rides_offers_surge_avg\"], label=\"Underground\", linestyle='--')\n",
    "plt.xlabel(\"Timestamp (s)\", fontsize=20)\n",
    "plt.ylabel(\"Avg Surge Multiplier Value\", fontsize=20)\n",
    "plt.ylim(0, 4)\n",
    "plt.gca().xaxis.set_major_locator(ticker.MaxNLocator(nbins=8))\n",
    "plt.gca().yaxis.set_major_locator(ticker.MaxNLocator(nbins=4))\n",
    "plt.xticks(fontsize=20)\n",
    "plt.yticks(fontsize=20)\n",
    "plt.grid(True, which='both', linestyle='--', linewidth=0.7, alpha=0.7)\n",
    "plt.legend(fontsize=20)\n",
    "plt.grid(True)\n",
    "plt.tight_layout()\n",
    "plt.savefig(\"results/avg_surge_multiplier_comparison.png\", dpi=300, bbox_inches='tight')\n",
    "plt.show()"
   ]
  },
  {
   "cell_type": "markdown",
   "id": "2006d3f8",
   "metadata": {},
   "source": [
    "## Responsiveness"
   ]
  },
  {
   "cell_type": "code",
   "execution_count": 108,
   "id": "53329ef0",
   "metadata": {},
   "outputs": [
    {
     "name": "stdout",
     "output_type": "stream",
     "text": [
      "Responsiveness summary saved to: /Users/beyzaeken/Desktop/sfdigitalmirror/experiments/results/responsiveness_underground.csv\n"
     ]
    }
   ],
   "source": [
    "# Prepare paths\n",
    "projectPath = os.path.abspath(os.path.join(os.getcwd(), '..'))\n",
    "mode_dir = os.path.join(projectPath, 'sumoenv/scenarios/underground_alarm/social_groups')\n",
    "\n",
    "records = []\n",
    "for date in os.listdir(mode_dir):\n",
    "    date_path = os.path.join(mode_dir, date)\n",
    "    if not os.path.isdir(date_path):\n",
    "        continue\n",
    "    summary_path = os.path.join(date_path, 'simulation_summary.csv')\n",
    "    if os.path.exists(summary_path):\n",
    "        df = pd.read_csv(summary_path)\n",
    "        if not df.empty:\n",
    "            first_row = df.iloc[0]\n",
    "            elapsed_sec = first_row['total_elapsed_seconds']\n",
    "            sumo_sec = first_row['sumo_time']\n",
    "            agents_sec = first_row['agents_time']\n",
    "            records.append({\n",
    "                'mode': 'social_groups',\n",
    "                'date': date,\n",
    "                'elapsed_seconds': elapsed_sec,\n",
    "                'elapsed_minutes': round(elapsed_sec / 60, 2),\n",
    "                'sumo_time': sumo_sec,\n",
    "                'sumo_minutes': round(sumo_sec / 60, 2),\n",
    "                'agents_time': agents_sec,\n",
    "                'agents_minutes': round(agents_sec / 60, 2)\n",
    "            })\n",
    "# Save results to CSV\n",
    "summary_df = pd.DataFrame(records)\n",
    "output_file = os.path.join(projectPath, 'experiments/results/responsiveness_underground.csv')\n",
    "summary_df = summary_df.sort_values(by=['date'])\n",
    "summary_df.to_csv(output_file, index=False)\n",
    "\n",
    "print(f\"Responsiveness summary saved to: {output_file}\")"
   ]
  },
  {
   "cell_type": "code",
   "execution_count": 109,
   "id": "dcff3c67",
   "metadata": {},
   "outputs": [
    {
     "name": "stdout",
     "output_type": "stream",
     "text": [
      "Responsiveness ratio (underground/normal): 20.51%\n"
     ]
    }
   ],
   "source": [
    "# Compare responsiveness ratio of underground and normal scenarios\n",
    "df_under_responsiveness = pd.read_csv(os.path.join(projectPath, 'experiments/results/responsiveness_underground.csv'))\n",
    "df_normal_responsiveness = pd.read_csv(os.path.join(projectPath, 'experiments/results/responsiveness_normal.csv'))\n",
    "df_under_dates = df_under_responsiveness['date'].unique()\n",
    "df_normal_responsiveness = df_normal_responsiveness[df_normal_responsiveness['mode'] == 'social_groups_avg']\n",
    "df_normal_responsiveness = df_normal_responsiveness[df_normal_responsiveness['date'].isin(df_under_dates)]\n",
    "total_under = df_under_responsiveness['elapsed_seconds'].sum()\n",
    "total_normal = df_normal_responsiveness['elapsed_seconds'].sum()\n",
    "ratio = ((total_under - total_normal) / total_normal) * 100\n",
    "print(f\"Responsiveness ratio (underground/normal): {ratio:.2f}%\")"
   ]
  },
  {
   "cell_type": "markdown",
   "id": "39fb0901",
   "metadata": {},
   "source": [
    "## Fidelity"
   ]
  },
  {
   "cell_type": "code",
   "execution_count": 110,
   "id": "231d3832",
   "metadata": {},
   "outputs": [],
   "source": [
    "def get_pickups_dropoffs(\n",
    "        sf_rides_stats_path,\n",
    "        start_date_str,\n",
    "        start_time_str,\n",
    "        end_date_str,\n",
    "        end_time_str,\n",
    "        tazs_involved = None\n",
    "    ):\n",
    "    start_date = datetime.strptime(start_date_str, \"%y%m%d\").date()\n",
    "    end_date = datetime.strptime(end_date_str, \"%y%m%d\").date()\n",
    "    num_days = (end_date - start_date).days + 1\n",
    "\n",
    "    # Parse start and end hours\n",
    "    start_hour = int(datetime.strptime(start_time_str, \"%H\").hour)\n",
    "    end_hour = int(datetime.strptime(end_time_str, \"%H\").hour)\n",
    "\n",
    "    # Map dataset hours (3–26) to standard 0–23 format\n",
    "    dataset_hour_map = {h: h % 24 for h in range(3, 27)}\n",
    "\n",
    "    # Read the CSV file    \n",
    "    all_rows = []\n",
    "    with open(sf_rides_stats_path, mode='r') as file:\n",
    "        reader = csv.DictReader(file, delimiter=',')\n",
    "        for row in reader:\n",
    "            row['taz'] = int(row['taz'])\n",
    "            row['day_of_week'] = int(row['day_of_week'])\n",
    "            row['hour'] = int(row['hour'])\n",
    "            row['pickups'] = round(float(row['pickups']))\n",
    "            row['dropoffs'] = round(float(row['dropoffs']))\n",
    "            all_rows.append(row)\n",
    "\n",
    "    # Index by (day_of_week, hour, taz)\n",
    "    data_by_key = {}\n",
    "    for row in all_rows:\n",
    "        key = (row['day_of_week'], row['hour'], row['taz'])\n",
    "        data_by_key[key] = {'pickups': row['pickups'], 'dropoffs': row['dropoffs']}\n",
    "\n",
    "    zone_data = {}\n",
    "    # For each simulation day, determine hours to include from that day\n",
    "    for sim_day_index in range(num_days):\n",
    "        sim_date = start_date + timedelta(days=sim_day_index)\n",
    "        sim_day_of_week = sim_date.weekday()\n",
    "        if num_days == 1:\n",
    "            selected_std_hours = list(range(start_hour, end_hour))\n",
    "        else:\n",
    "            if sim_day_index == 0:\n",
    "                selected_std_hours = list(range(start_hour, 24))\n",
    "            elif sim_day_index == num_days - 1:\n",
    "                selected_std_hours = list(range(0, end_hour))\n",
    "            else:\n",
    "                selected_std_hours = list(range(0, 24))\n",
    "        selected_dataset_hours = {h: std for h, std in dataset_hour_map.items() if std in selected_std_hours}\n",
    "        # Filter rows for this day and hour\n",
    "        for row in all_rows:\n",
    "            taz = row['taz']\n",
    "            hour = row['hour']\n",
    "            day = row['day_of_week']\n",
    "            if day == sim_day_of_week and hour in selected_dataset_hours:\n",
    "                std_hour = selected_dataset_hours[hour]\n",
    "                if taz not in zone_data:\n",
    "                    zone_data[taz] = {}\n",
    "                zone_data[taz][std_hour] = {\n",
    "                    'pickups': row['pickups'],\n",
    "                    'dropoffs': row['dropoffs']\n",
    "                }\n",
    "    \n",
    "    # If tazs_involved is provided, adjust pickups and dropoffs based on \"underground\" disruptive scenario\n",
    "    if tazs_involved:\n",
    "        for taz in zone_data:\n",
    "            if taz in tazs_involved:\n",
    "                for hour in zone_data[taz]:\n",
    "                    if hour == 23 or hour == 11:\n",
    "                        zone_data[taz][hour]['pickups'] += round((zone_data[taz][hour]['pickups'] * 2) * 0.7)\n",
    "                        zone_data[taz][hour]['dropoffs'] += round((zone_data[taz][hour]['dropoffs'] * 2) * 0.7)\n",
    "\n",
    "    # Compute pickups and dropoffs across all zones and selected hours\n",
    "    total_pickups = sum(hour_data['pickups'] for zone in zone_data.values() for hour_data in zone.values())\n",
    "    total_dropoffs = sum(hour_data['dropoffs'] for zone in zone_data.values() for hour_data in zone.values())\n",
    "\n",
    "    return total_pickups, total_dropoffs\n",
    "\n",
    "\n",
    "def percent_error(true_val, estimated_val):\n",
    "    return 100 * abs(true_val - estimated_val) / true_val if true_val != 0 else float('nan')"
   ]
  },
  {
   "cell_type": "code",
   "execution_count": 111,
   "id": "f3c60ceb",
   "metadata": {},
   "outputs": [
    {
     "name": "stdout",
     "output_type": "stream",
     "text": [
      "Fidelity summary saved to: /Users/beyzaeken/Desktop/sfdigitalmirror/experiments/results/fidelity_underground.csv\n"
     ]
    }
   ],
   "source": [
    "# Prepare paths\n",
    "projectPath = os.path.abspath(os.path.join(os.getcwd(), '..'))\n",
    "mode_dir = os.path.join(projectPath, 'sumoenv/scenarios/underground_alarm/social_groups')\n",
    "traffic_dir = os.path.join(projectPath, 'data/sf_traffic/sfmta_dataset')\n",
    "sfcta_dir = os.path.join(projectPath, 'data/ridehailing_stats')\n",
    "\n",
    "# Initialize records and TAZs involved\n",
    "records = []\n",
    "tazs_involved = None\n",
    "with open(os.path.join(projectPath, \"config/zip_zones_config.json\"), \"r\") as f:\n",
    "    zip_zones = json.load(f)\n",
    "    tazs_involved = []\n",
    "    with open(os.path.join(projectPath, \"data/sf_zones/sf_sfcta_stanford_mapping.json\"), \"r\") as f:\n",
    "        sfcta_mapping = json.load(f)\n",
    "    for taz in zip_zones[\"downtown\"]:\n",
    "        if taz in sfcta_mapping:\n",
    "            tazs_involved.extend(sfcta_mapping[taz])\n",
    "\n",
    "# Traverse each folder inside the mode\n",
    "for date in os.listdir(mode_dir):\n",
    "    date_path = os.path.join(mode_dir, date)\n",
    "    if not os.path.isdir(date_path):\n",
    "        continue\n",
    "    summary_path = os.path.join(date_path, 'sf_final_metrics.csv')\n",
    "    # Get real traffic data\n",
    "    traffic_file = [f for f in os.listdir(traffic_dir) if os.path.isfile(os.path.join(traffic_dir, f)) and date in f]\n",
    "    try:\n",
    "        traffic_df = pd.read_csv(os.path.join(traffic_dir, traffic_file[0]))\n",
    "        # Here we read the traffic data related to the disruptive scenario\n",
    "        od_df = pd.read_csv(os.path.join(date_path, f\"sf_traffic_od_{date}.csv\"), sep=';')\n",
    "    except:\n",
    "        continue\n",
    "    \n",
    "    # Filter the traffic data by hours and TAZs involved\n",
    "    if tazs_involved:\n",
    "        od_df = od_df[od_df['origin_taz_id'].isin(tazs_involved)]\n",
    "        od_df_filtered_taz = od_df.copy()\n",
    "        od_df_filtered_taz['origin_starting_time'] = pd.to_datetime(od_df_filtered_taz['origin_starting_time'])\n",
    "        time_ranges = [\n",
    "        (pd.to_datetime('11:00:00').time(), pd.to_datetime('11:40:00').time()),\n",
    "        (pd.to_datetime('23:00:00').time(), pd.to_datetime('23:40:00').time())\n",
    "        ]\n",
    "        od_df_filtered_taz_time = od_df_filtered_taz[\n",
    "            od_df_filtered_taz['origin_starting_time'].dt.time.between(*time_ranges[0]) |\n",
    "            od_df_filtered_taz['origin_starting_time'].dt.time.between(*time_ranges[1])\n",
    "        ]\n",
    "        # Consider +50% traffic\n",
    "        base_count = len(od_df_filtered_taz_time) * 0.64\n",
    "        added_count = int(base_count * 0.5)\n",
    "        new_count = base_count + added_count\n",
    "    else:\n",
    "        new_count = 0\n",
    "    traffic = (len(traffic_df)-1) if traffic_file else 0\n",
    "    # Scale traffic: 36% of traffic is TNC\n",
    "    traffic = traffic + new_count\n",
    "    traffic_scaled = int(traffic * 0.64)\n",
    "\n",
    "    # Get pickups and dropoffs data\n",
    "    start_str, end_str = date.split('_')\n",
    "    pickups, dropoffs = get_pickups_dropoffs(\n",
    "        os.path.join(sfcta_dir, \"trip_stats_taz.csv\"),\n",
    "        start_str[:6],\n",
    "        start_str[6:],\n",
    "        end_str[:6],\n",
    "        end_str[6:],\n",
    "        tazs_involved\n",
    "    )\n",
    "\n",
    "    # Recotrd the results\n",
    "    if os.path.exists(summary_path):\n",
    "        df = pd.read_csv(summary_path)\n",
    "        if not df.empty:\n",
    "            traffic_count = sum(df['traffic_departures'])\n",
    "            pickup_count = sum(df['passengers_departures'])\n",
    "            dropoff_count = sum(df['passengers_arrivals'])\n",
    "            canceled_count = sum(df['passengers_cancel'])\n",
    "            traffic_error = percent_error(traffic_scaled, traffic_count)\n",
    "            pickup_error = percent_error(pickups, pickup_count)\n",
    "            dropoff_error = percent_error(dropoffs, dropoff_count)\n",
    "            pickup_scaled_error = percent_error(pickups, pickup_count + canceled_count)\n",
    "            dropoff_scaled_error = percent_error(dropoffs, dropoff_count + canceled_count)\n",
    "            records.append({\n",
    "                'mode': 'social_groups',\n",
    "                'date': date,\n",
    "                'traffic_input': traffic_scaled,\n",
    "                'pickup_input': pickups,\n",
    "                'dropoff_input': dropoffs,\n",
    "                'traffic_output': traffic_count,\n",
    "                'pickup_output': pickup_count,\n",
    "                'dropoff_output': dropoff_count,\n",
    "                'traffic_error': round(traffic_error, 2),\n",
    "                'pickup_error': round(pickup_error, 2),\n",
    "                'dropoff_error': round(dropoff_error, 2),\n",
    "                'canceled_rides': canceled_count,\n",
    "                'pickup_scaled_error': round(pickup_scaled_error, 2),\n",
    "                'dropoff_scaled_error': round(dropoff_scaled_error, 2)\n",
    "            })\n",
    "\n",
    "# Save results to CSV\n",
    "summary_df = pd.DataFrame(records)\n",
    "output_file = os.path.join(projectPath, 'experiments/results/fidelity_underground.csv')\n",
    "summary_df = summary_df.sort_values(by=['date'])\n",
    "summary_df.to_csv(output_file, index=False)\n",
    "\n",
    "print(f\"Fidelity summary saved to: {output_file}\")"
   ]
  },
  {
   "cell_type": "code",
   "execution_count": 112,
   "id": "466ea71a",
   "metadata": {},
   "outputs": [
    {
     "name": "stdout",
     "output_type": "stream",
     "text": [
      "Traffic fidelity ratio (underground/normal): 2.81%\n",
      "Pickup fidelity ratio (underground/normal): 0.00%\n",
      "Dropoff fidelity ratio (underground/normal): -0.19%\n",
      "Canceled rides ratio (underground/normal): 141.84%\n"
     ]
    }
   ],
   "source": [
    "# Compare fidelity of underground and normal scenarios\n",
    "df_under_fidelity = pd.read_csv(os.path.join(projectPath, 'experiments/results/fidelity_underground.csv'))\n",
    "df_normal_fidelity = pd.read_csv(os.path.join(projectPath, 'experiments/results/fidelity_normal.csv'))\n",
    "df_under_dates = df_under_fidelity['date'].unique()\n",
    "df_normal_fidelity = df_normal_fidelity[df_normal_fidelity['mode'] == 'social_groups_avg']\n",
    "df_normal_fidelity = df_normal_fidelity[df_normal_fidelity['date'].isin(df_under_dates)]\n",
    "under_traffic_error = df_under_fidelity['traffic_error'].mean()\n",
    "normal_traffic_error = df_normal_fidelity['traffic_error'].mean()\n",
    "under_pickup_error = 100 - df_under_fidelity['pickup_scaled_error'].mean()\n",
    "normal_pickup_error = 100 - df_under_fidelity['pickup_scaled_error'].mean()\n",
    "under_dropoff_error = 100 - df_under_fidelity['dropoff_scaled_error'].mean()\n",
    "normal_dropoff_error = 100 - df_normal_fidelity['dropoff_scaled_error'].mean()\n",
    "under_rides_canceled = df_under_fidelity['canceled_rides'].mean()\n",
    "normal_rides_canceled = df_normal_fidelity['canceled_rides'].mean()\n",
    "traffic_ratio = ((under_traffic_error - normal_traffic_error) / normal_traffic_error) * 100\n",
    "pickup_ratio = ((under_pickup_error - normal_pickup_error) / normal_pickup_error) * 100\n",
    "dropoff_ratio = ((under_dropoff_error - normal_dropoff_error) / normal_dropoff_error) * 100\n",
    "canceled_ratio = ((under_rides_canceled - normal_rides_canceled) / normal_rides_canceled) * 100\n",
    "print(f\"Traffic fidelity ratio (underground/normal): {traffic_ratio:.2f}%\")\n",
    "print(f\"Pickup fidelity ratio (underground/normal): {pickup_ratio:.2f}%\")\n",
    "print(f\"Dropoff fidelity ratio (underground/normal): {dropoff_ratio:.2f}%\")\n",
    "print(f\"Canceled rides ratio (underground/normal): {canceled_ratio:.2f}%\")"
   ]
  },
  {
   "cell_type": "markdown",
   "id": "77804f76",
   "metadata": {},
   "source": [
    "# Flat Provider"
   ]
  },
  {
   "cell_type": "markdown",
   "id": "10dc7cbe",
   "metadata": {},
   "source": [
    "## Responsiveness"
   ]
  },
  {
   "cell_type": "code",
   "execution_count": 113,
   "id": "51d05f53",
   "metadata": {},
   "outputs": [
    {
     "name": "stdout",
     "output_type": "stream",
     "text": [
      "Responsiveness summary saved to: /Users/beyzaeken/Desktop/sfdigitalmirror/experiments/results/responsiveness_normal_new_prov.csv\n"
     ]
    }
   ],
   "source": [
    "# Prepare paths\n",
    "projectPath = os.path.abspath(os.path.join(os.getcwd(), '..'))\n",
    "mode_dir = os.path.join(projectPath, 'sumoenv/scenarios/normal_new_prov/social_groups')\n",
    "\n",
    "records = []\n",
    "for date in os.listdir(mode_dir):\n",
    "    date_path = os.path.join(mode_dir, date)\n",
    "    if not os.path.isdir(date_path):\n",
    "        continue\n",
    "    summary_path = os.path.join(date_path, 'simulation_summary.csv')\n",
    "    if os.path.exists(summary_path):\n",
    "        df = pd.read_csv(summary_path)\n",
    "        if not df.empty:\n",
    "            first_row = df.iloc[0]\n",
    "            elapsed_sec = first_row['total_elapsed_seconds']\n",
    "            sumo_sec = first_row['sumo_time']\n",
    "            agents_sec = first_row['agents_time']\n",
    "            records.append({\n",
    "                'mode': 'social_groups',\n",
    "                'date': date,\n",
    "                'elapsed_seconds': elapsed_sec,\n",
    "                'elapsed_minutes': round(elapsed_sec / 60, 2),\n",
    "                'sumo_time': sumo_sec,\n",
    "                'sumo_minutes': round(sumo_sec / 60, 2),\n",
    "                'agents_time': agents_sec,\n",
    "                'agents_minutes': round(agents_sec / 60, 2)\n",
    "            })\n",
    "# Save results to CSV\n",
    "summary_df = pd.DataFrame(records)\n",
    "output_file = os.path.join(projectPath, 'experiments/results/responsiveness_normal_new_prov.csv')\n",
    "summary_df = summary_df.sort_values(by=['date'])\n",
    "summary_df.to_csv(output_file, index=False)\n",
    "\n",
    "print(f\"Responsiveness summary saved to: {output_file}\")"
   ]
  },
  {
   "cell_type": "code",
   "execution_count": 114,
   "id": "473a4dee",
   "metadata": {},
   "outputs": [
    {
     "name": "stdout",
     "output_type": "stream",
     "text": [
      "Total elapsed seconds (flat): 256443.28000000003\n",
      "Total elapsed seconds (normal): 127460.29000000001\n",
      "Responsiveness ratio (flat/normal): 50.30%\n"
     ]
    }
   ],
   "source": [
    "# Compare responsiveness ratio of new provider and standard config\n",
    "df_flat_responsiveness = pd.read_csv(os.path.join(projectPath, 'experiments/results/responsiveness_normal_new_prov.csv'))\n",
    "df_normal_responsiveness = pd.read_csv(os.path.join(projectPath, 'experiments/results/responsiveness_normal.csv'))\n",
    "df_normal_responsiveness = df_normal_responsiveness[df_normal_responsiveness['mode'] == 'social_groups_avg']\n",
    "total_flat = df_flat_responsiveness['elapsed_seconds'].sum()\n",
    "total_normal = df_normal_responsiveness['elapsed_seconds'].sum()\n",
    "print(f\"Total elapsed seconds (flat): {total_flat}\")\n",
    "print(f\"Total elapsed seconds (normal): {total_normal}\")\n",
    "ratio = ((total_flat - total_normal) / total_flat) * 100\n",
    "print(f\"Responsiveness ratio (flat/normal): {ratio:.2f}%\")"
   ]
  },
  {
   "cell_type": "markdown",
   "id": "6faa80d0",
   "metadata": {},
   "source": [
    "## Fidelity"
   ]
  },
  {
   "cell_type": "code",
   "execution_count": 115,
   "id": "ee5ddabe",
   "metadata": {},
   "outputs": [
    {
     "name": "stdout",
     "output_type": "stream",
     "text": [
      "Fidelity summary saved to: /Users/beyzaeken/Desktop/sfdigitalmirror/experiments/results/fidelity_normal_new_prov.csv\n"
     ]
    }
   ],
   "source": [
    "# Prepare paths\n",
    "projectPath = os.path.abspath(os.path.join(os.getcwd(), '..'))\n",
    "mode_dir = os.path.join(projectPath, 'sumoenv/scenarios/normal_new_prov/social_groups')\n",
    "traffic_dir = os.path.join(projectPath, 'data/sf_traffic/sfmta_dataset')\n",
    "sfcta_dir = os.path.join(projectPath, 'data/ridehailing_stats')\n",
    "\n",
    "records = []\n",
    "# Traverse each folder inside the mode\n",
    "for date in os.listdir(mode_dir):\n",
    "    date_path = os.path.join(mode_dir, date)\n",
    "    if not os.path.isdir(date_path):\n",
    "        continue\n",
    "    summary_path = os.path.join(date_path, 'sf_final_metrics.csv')\n",
    "    # Get real traffic and pickup/dropoff data\n",
    "    traffic_file = [f for f in os.listdir(traffic_dir) if os.path.isfile(os.path.join(traffic_dir, f)) and date in f]\n",
    "    try:\n",
    "        traffic_df = pd.read_csv(os.path.join(traffic_dir, traffic_file[0]))\n",
    "    except:\n",
    "        continue\n",
    "    traffic = (len(traffic_df)-1) if traffic_file else 0\n",
    "    # Scale traffic: 36% of traffic is TNC\n",
    "    traffic_scaled = int(traffic * 0.64)\n",
    "    start_str, end_str = date.split('_')\n",
    "    pickups, dropoffs = get_pickups_dropoffs(\n",
    "        os.path.join(sfcta_dir, \"trip_stats_taz.csv\"),\n",
    "        start_str[:6],\n",
    "        start_str[6:],\n",
    "        end_str[:6],\n",
    "        end_str[6:]\n",
    "    )\n",
    "    if os.path.exists(summary_path):\n",
    "        df = pd.read_csv(summary_path)\n",
    "        if not df.empty:\n",
    "            traffic_count = sum(df['traffic_departures'])\n",
    "            pickup_count = sum(df['passengers_departures'])\n",
    "            dropoff_count = sum(df['passengers_arrivals'])\n",
    "            canceled_count = sum(df['passengers_cancel']) + sum(df['rides_not_served'])\n",
    "            traffic_error = percent_error(traffic_scaled, traffic_count)\n",
    "            pickup_error = percent_error(pickups, pickup_count)\n",
    "            dropoff_error = percent_error(dropoffs, dropoff_count)\n",
    "            pickup_scaled_error = percent_error(pickups, pickup_count + canceled_count)\n",
    "            dropoff_scaled_error = percent_error(dropoffs, dropoff_count + canceled_count)\n",
    "            records.append({\n",
    "                'mode': 'social_groups',\n",
    "                'date': date,\n",
    "                'traffic_input': traffic_scaled,\n",
    "                'pickup_input': pickups,\n",
    "                'dropoff_input': dropoffs,\n",
    "                'traffic_output': traffic_count,\n",
    "                'pickup_output': pickup_count,\n",
    "                'dropoff_output': dropoff_count,\n",
    "                'traffic_error': round(traffic_error, 2),\n",
    "                'pickup_error': round(pickup_error, 2),\n",
    "                'dropoff_error': round(dropoff_error, 2),\n",
    "                'canceled_rides': canceled_count,\n",
    "                'pickup_scaled_error': round(pickup_scaled_error, 2),\n",
    "                'dropoff_scaled_error': round(dropoff_scaled_error, 2)\n",
    "            })\n",
    "\n",
    "# Save results to CSV\n",
    "summary_df = pd.DataFrame(records)\n",
    "output_file = os.path.join(projectPath, 'experiments/results/fidelity_normal_new_prov.csv')\n",
    "summary_df = summary_df.sort_values(by=['date'])\n",
    "summary_df.to_csv(output_file, index=False)\n",
    "\n",
    "print(f\"Fidelity summary saved to: {output_file}\")"
   ]
  },
  {
   "cell_type": "code",
   "execution_count": 116,
   "id": "adf74c32",
   "metadata": {},
   "outputs": [
    {
     "name": "stdout",
     "output_type": "stream",
     "text": [
      "Traffic fidelity ratio (flat/normal): -3.76%\n",
      "Pickup fidelity ratio (flat/normal): 0.00%\n",
      "Dropoff fidelity ratio (flat/normal): 0.05%\n",
      "Canceled rides ratio (flat/normal): 89.49%\n"
     ]
    }
   ],
   "source": [
    "# Compare fidelity of new provider and standard config\n",
    "df_flat_fidelity = pd.read_csv(os.path.join(projectPath, 'experiments/results/fidelity_normal_new_prov.csv'))\n",
    "df_normal_fidelity = pd.read_csv(os.path.join(projectPath, 'experiments/results/fidelity_normal.csv'))\n",
    "df_normal_fidelity = df_normal_fidelity[df_normal_fidelity['mode'] == 'social_groups_avg']\n",
    "flat_traffic_error = df_flat_fidelity['traffic_error'].mean()\n",
    "normal_traffic_error = df_normal_fidelity['traffic_error'].mean()\n",
    "flat_pickup_error = 100 - df_flat_fidelity['pickup_scaled_error'].mean()\n",
    "normal_pickup_error = 100 - df_flat_fidelity['pickup_scaled_error'].mean()\n",
    "flat_dropoff_error = 100 - df_flat_fidelity['dropoff_scaled_error'].mean()\n",
    "normal_dropoff_error = 100 - df_normal_fidelity['dropoff_scaled_error'].mean()\n",
    "flat_rides_canceled = df_flat_fidelity['canceled_rides'].mean()\n",
    "normal_rides_canceled = df_normal_fidelity['canceled_rides'].mean()\n",
    "traffic_ratio = ((flat_traffic_error - normal_traffic_error) / normal_traffic_error) * 100\n",
    "pickup_ratio = ((flat_pickup_error - normal_pickup_error) / normal_pickup_error) * 100\n",
    "dropoff_ratio = ((flat_dropoff_error - normal_dropoff_error) / normal_dropoff_error) * 100\n",
    "canceled_ratio = ((flat_rides_canceled - normal_rides_canceled) / normal_rides_canceled) * 100\n",
    "print(f\"Traffic fidelity ratio (flat/normal): {traffic_ratio:.2f}%\")\n",
    "print(f\"Pickup fidelity ratio (flat/normal): {pickup_ratio:.2f}%\")\n",
    "print(f\"Dropoff fidelity ratio (flat/normal): {dropoff_ratio:.2f}%\")\n",
    "print(f\"Canceled rides ratio (flat/normal): {canceled_ratio:.2f}%\")"
   ]
  }
 ],
 "metadata": {
  "kernelspec": {
   "display_name": ".venv",
   "language": "python",
   "name": "python3"
  },
  "language_info": {
   "codemirror_mode": {
    "name": "ipython",
    "version": 3
   },
   "file_extension": ".py",
   "mimetype": "text/x-python",
   "name": "python",
   "nbconvert_exporter": "python",
   "pygments_lexer": "ipython3",
   "version": "3.11.9"
  }
 },
 "nbformat": 4,
 "nbformat_minor": 5
}
